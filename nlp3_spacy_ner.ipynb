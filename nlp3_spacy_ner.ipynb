{
  "nbformat": 4,
  "nbformat_minor": 0,
  "metadata": {
    "colab": {
      "provenance": []
    },
    "kernelspec": {
      "name": "python3",
      "display_name": "Python 3"
    },
    "language_info": {
      "name": "python"
    }
  },
  "cells": [
    {
      "cell_type": "code",
      "execution_count": 1,
      "metadata": {
        "colab": {
          "base_uri": "https://localhost:8080/"
        },
        "id": "m1I7p4Ottnbo",
        "outputId": "7a3b1214-d23a-4ef1-9623-149aac08710e"
      },
      "outputs": [
        {
          "output_type": "stream",
          "name": "stdout",
          "text": [
            "Apple PROPN nsubj\n",
            "is AUX aux\n",
            "looking VERB ROOT\n",
            "at ADP prep\n",
            "buying VERB pcomp\n",
            "U.K. PROPN dobj\n",
            "startup NOUN dep\n",
            "for ADP prep\n",
            "$ SYM quantmod\n",
            "1 NUM compound\n",
            "billion NUM pobj\n"
          ]
        }
      ],
      "source": [
        "import spacy\n",
        "\n",
        "nlp = spacy.load(\"en_core_web_sm\")\n",
        "doc = nlp(\"Apple is looking at buying U.K. startup for $1 billion\")\n",
        "for token in doc:\n",
        "    print(token.text, token.pos_, token.dep_)\n"
      ]
    },
    {
      "cell_type": "code",
      "source": [
        "import spacy\n",
        "\n",
        "nlp = spacy.load(\"en_core_web_sm\")\n",
        "doc = nlp(\"Apple is looking at buying U.K. startup for $1 billion\")\n",
        "for token in doc:\n",
        "    print(token.text)\n"
      ],
      "metadata": {
        "colab": {
          "base_uri": "https://localhost:8080/"
        },
        "id": "cyjeywNPtwIn",
        "outputId": "ac85f4f4-3d1f-4d70-8504-9b40b58fee8c"
      },
      "execution_count": 5,
      "outputs": [
        {
          "output_type": "stream",
          "name": "stdout",
          "text": [
            "Apple\n",
            "is\n",
            "looking\n",
            "at\n",
            "buying\n",
            "U.K.\n",
            "startup\n",
            "for\n",
            "$\n",
            "1\n",
            "billion\n"
          ]
        }
      ]
    },
    {
      "cell_type": "code",
      "source": [
        "import spacy\n",
        "\n",
        "nlp = spacy.load(\"en_core_web_sm\")\n",
        "doc = nlp(\"Apple is looking at buying U.K. startup for $1 billion\")\n",
        "\n",
        "for token in doc:\n",
        "    print(token.text, token.lemma_, token.pos_, token.tag_, token.dep_,\n",
        "            token.shape_, token.is_alpha, token.is_stop)"
      ],
      "metadata": {
        "colab": {
          "base_uri": "https://localhost:8080/"
        },
        "id": "DoU7BAG9t1Kf",
        "outputId": "b492fc4b-1d0b-43d1-e8d2-3832231f5ce1"
      },
      "execution_count": 6,
      "outputs": [
        {
          "output_type": "stream",
          "name": "stdout",
          "text": [
            "Apple Apple PROPN NNP nsubj Xxxxx True False\n",
            "is be AUX VBZ aux xx True True\n",
            "looking look VERB VBG ROOT xxxx True False\n",
            "at at ADP IN prep xx True True\n",
            "buying buy VERB VBG pcomp xxxx True False\n",
            "U.K. U.K. PROPN NNP dobj X.X. False False\n",
            "startup startup NOUN NN dep xxxx True False\n",
            "for for ADP IN prep xxx True True\n",
            "$ $ SYM $ quantmod $ False False\n",
            "1 1 NUM CD compound d False False\n",
            "billion billion NUM CD pobj xxxx True False\n"
          ]
        }
      ]
    },
    {
      "cell_type": "markdown",
      "source": [
        "![displacy-long.svg](data:image/svg+xml;base64,PHN2ZwogICAgeG1sbnM9Imh0dHA6Ly93d3cudzMub3JnLzIwMDAvc3ZnIgogICAgeG1sbnM6eGxpbms9Imh0dHA6Ly93d3cudzMub3JnLzE5OTkveGxpbmsiCiAgICBpZD0iZTEwOTU4MTU5M2YyNDVjZTljNGFjMTJmNzhlMGM3NGUtMCIKICAgIGNsYXNzPSJkaXNwbGFjeSIKICAgIHdpZHRoPSIxOTc1IgogICAgaGVpZ2h0PSIzOTkuNSIKICAgIHN0eWxlPSIKICAgICAgICBtYXgtd2lkdGg6IG5vbmU7CiAgICAgICAgaGVpZ2h0OiAzOTkuNXB4OwogICAgICAgIGNvbG9yOiAjMDAwMDAwOwogICAgICAgIGJhY2tncm91bmQ6ICNmZmZmZmY7CiAgICAgICAgZm9udC1mYW1pbHk6IEFyaWFsOwogICAgIgo+CiAgICA8dGV4dCBjbGFzcz0iZGlzcGxhY3ktdG9rZW4iIGZpbGw9ImN1cnJlbnRDb2xvciIgdGV4dC1hbmNob3I9Im1pZGRsZSIgeT0iMzA5LjUiPgogICAgICAgIDx0c3BhbiBjbGFzcz0iZGlzcGxhY3ktd29yZCIgZmlsbD0iY3VycmVudENvbG9yIiB4PSI1MCI+QXBwbGU8L3RzcGFuPgogICAgICAgIDx0c3BhbiBjbGFzcz0iZGlzcGxhY3ktdGFnIiBkeT0iMmVtIiBmaWxsPSJjdXJyZW50Q29sb3IiIHg9IjUwIj5QUk9QTjwvdHNwYW4+CiAgICA8L3RleHQ+CgogICAgPHRleHQgY2xhc3M9ImRpc3BsYWN5LXRva2VuIiBmaWxsPSJjdXJyZW50Q29sb3IiIHRleHQtYW5jaG9yPSJtaWRkbGUiIHk9IjMwOS41Ij4KICAgICAgICA8dHNwYW4gY2xhc3M9ImRpc3BsYWN5LXdvcmQiIGZpbGw9ImN1cnJlbnRDb2xvciIgeD0iMjI1Ij5pczwvdHNwYW4+CiAgICAgICAgPHRzcGFuIGNsYXNzPSJkaXNwbGFjeS10YWciIGR5PSIyZW0iIGZpbGw9ImN1cnJlbnRDb2xvciIgeD0iMjI1Ij5WRVJCPC90c3Bhbj4KICAgIDwvdGV4dD4KCiAgICA8dGV4dCBjbGFzcz0iZGlzcGxhY3ktdG9rZW4iIGZpbGw9ImN1cnJlbnRDb2xvciIgdGV4dC1hbmNob3I9Im1pZGRsZSIgeT0iMzA5LjUiPgogICAgICAgIDx0c3BhbiBjbGFzcz0iZGlzcGxhY3ktd29yZCIgZmlsbD0iY3VycmVudENvbG9yIiB4PSI0MDAiPmxvb2tpbmc8L3RzcGFuPgogICAgICAgIDx0c3BhbiBjbGFzcz0iZGlzcGxhY3ktdGFnIiBkeT0iMmVtIiBmaWxsPSJjdXJyZW50Q29sb3IiIHg9IjQwMCI+VkVSQjwvdHNwYW4+CiAgICA8L3RleHQ+CgogICAgPHRleHQgY2xhc3M9ImRpc3BsYWN5LXRva2VuIiBmaWxsPSJjdXJyZW50Q29sb3IiIHRleHQtYW5jaG9yPSJtaWRkbGUiIHk9IjMwOS41Ij4KICAgICAgICA8dHNwYW4gY2xhc3M9ImRpc3BsYWN5LXdvcmQiIGZpbGw9ImN1cnJlbnRDb2xvciIgeD0iNTc1Ij5hdDwvdHNwYW4+CiAgICAgICAgPHRzcGFuIGNsYXNzPSJkaXNwbGFjeS10YWciIGR5PSIyZW0iIGZpbGw9ImN1cnJlbnRDb2xvciIgeD0iNTc1Ij5BRFA8L3RzcGFuPgogICAgPC90ZXh0PgoKICAgIDx0ZXh0IGNsYXNzPSJkaXNwbGFjeS10b2tlbiIgZmlsbD0iY3VycmVudENvbG9yIiB0ZXh0LWFuY2hvcj0ibWlkZGxlIiB5PSIzMDkuNSI+CiAgICAgICAgPHRzcGFuIGNsYXNzPSJkaXNwbGFjeS13b3JkIiBmaWxsPSJjdXJyZW50Q29sb3IiIHg9Ijc1MCI+YnV5aW5nPC90c3Bhbj4KICAgICAgICA8dHNwYW4gY2xhc3M9ImRpc3BsYWN5LXRhZyIgZHk9IjJlbSIgZmlsbD0iY3VycmVudENvbG9yIiB4PSI3NTAiPlZFUkI8L3RzcGFuPgogICAgPC90ZXh0PgoKICAgIDx0ZXh0IGNsYXNzPSJkaXNwbGFjeS10b2tlbiIgZmlsbD0iY3VycmVudENvbG9yIiB0ZXh0LWFuY2hvcj0ibWlkZGxlIiB5PSIzMDkuNSI+CiAgICAgICAgPHRzcGFuIGNsYXNzPSJkaXNwbGFjeS13b3JkIiBmaWxsPSJjdXJyZW50Q29sb3IiIHg9IjkyNSI+VS5LLjwvdHNwYW4+CiAgICAgICAgPHRzcGFuIGNsYXNzPSJkaXNwbGFjeS10YWciIGR5PSIyZW0iIGZpbGw9ImN1cnJlbnRDb2xvciIgeD0iOTI1Ij5QUk9QTjwvdHNwYW4+CiAgICA8L3RleHQ+CgogICAgPHRleHQgY2xhc3M9ImRpc3BsYWN5LXRva2VuIiBmaWxsPSJjdXJyZW50Q29sb3IiIHRleHQtYW5jaG9yPSJtaWRkbGUiIHk9IjMwOS41Ij4KICAgICAgICA8dHNwYW4gY2xhc3M9ImRpc3BsYWN5LXdvcmQiIGZpbGw9ImN1cnJlbnRDb2xvciIgeD0iMTEwMCI+c3RhcnR1cDwvdHNwYW4+CiAgICAgICAgPHRzcGFuIGNsYXNzPSJkaXNwbGFjeS10YWciIGR5PSIyZW0iIGZpbGw9ImN1cnJlbnRDb2xvciIgeD0iMTEwMCI+Tk9VTjwvdHNwYW4+CiAgICA8L3RleHQ+CgogICAgPHRleHQgY2xhc3M9ImRpc3BsYWN5LXRva2VuIiBmaWxsPSJjdXJyZW50Q29sb3IiIHRleHQtYW5jaG9yPSJtaWRkbGUiIHk9IjMwOS41Ij4KICAgICAgICA8dHNwYW4gY2xhc3M9ImRpc3BsYWN5LXdvcmQiIGZpbGw9ImN1cnJlbnRDb2xvciIgeD0iMTI3NSI+Zm9yPC90c3Bhbj4KICAgICAgICA8dHNwYW4gY2xhc3M9ImRpc3BsYWN5LXRhZyIgZHk9IjJlbSIgZmlsbD0iY3VycmVudENvbG9yIiB4PSIxMjc1Ij5BRFA8L3RzcGFuPgogICAgPC90ZXh0PgoKICAgIDx0ZXh0IGNsYXNzPSJkaXNwbGFjeS10b2tlbiIgZmlsbD0iY3VycmVudENvbG9yIiB0ZXh0LWFuY2hvcj0ibWlkZGxlIiB5PSIzMDkuNSI+CiAgICAgICAgPHRzcGFuIGNsYXNzPSJkaXNwbGFjeS13b3JkIiBmaWxsPSJjdXJyZW50Q29sb3IiIHg9IjE0NTAiPiQ8L3RzcGFuPgogICAgICAgIDx0c3BhbiBjbGFzcz0iZGlzcGxhY3ktdGFnIiBkeT0iMmVtIiBmaWxsPSJjdXJyZW50Q29sb3IiIHg9IjE0NTAiPlNZTTwvdHNwYW4+CiAgICA8L3RleHQ+CgogICAgPHRleHQgY2xhc3M9ImRpc3BsYWN5LXRva2VuIiBmaWxsPSJjdXJyZW50Q29sb3IiIHRleHQtYW5jaG9yPSJtaWRkbGUiIHk9IjMwOS41Ij4KICAgICAgICA8dHNwYW4gY2xhc3M9ImRpc3BsYWN5LXdvcmQiIGZpbGw9ImN1cnJlbnRDb2xvciIgeD0iMTYyNSI+MTwvdHNwYW4+CiAgICAgICAgPHRzcGFuIGNsYXNzPSJkaXNwbGFjeS10YWciIGR5PSIyZW0iIGZpbGw9ImN1cnJlbnRDb2xvciIgeD0iMTYyNSI+TlVNPC90c3Bhbj4KICAgIDwvdGV4dD4KCiAgICA8dGV4dCBjbGFzcz0iZGlzcGxhY3ktdG9rZW4iIGZpbGw9ImN1cnJlbnRDb2xvciIgdGV4dC1hbmNob3I9Im1pZGRsZSIgeT0iMzA5LjUiPgogICAgICAgIDx0c3BhbiBjbGFzcz0iZGlzcGxhY3ktd29yZCIgZmlsbD0iY3VycmVudENvbG9yIiB4PSIxODAwIj5iaWxsaW9uPC90c3Bhbj4KICAgICAgICA8dHNwYW4gY2xhc3M9ImRpc3BsYWN5LXRhZyIgZHk9IjJlbSIgZmlsbD0iY3VycmVudENvbG9yIiB4PSIxODAwIj5OVU08L3RzcGFuPgogICAgPC90ZXh0PgoKICAgIDxnIGNsYXNzPSJkaXNwbGFjeS1hcnJvdyI+CiAgICAgICAgPHBhdGgKICAgICAgICAgICAgY2xhc3M9ImRpc3BsYWN5LWFyYyIKICAgICAgICAgICAgaWQ9ImFycm93LWUxMDk1ODE1OTNmMjQ1Y2U5YzRhYzEyZjc4ZTBjNzRlLTAtMCIKICAgICAgICAgICAgc3Ryb2tlLXdpZHRoPSIycHgiCiAgICAgICAgICAgIGQ9Ik03MCwyNjQuNSBDNzAsODkuNSAzOTUuMCw4OS41IDM5NS4wLDI2NC41IgogICAgICAgICAgICBmaWxsPSJub25lIgogICAgICAgICAgICBzdHJva2U9ImN1cnJlbnRDb2xvciIKICAgICAgICAvPgogICAgICAgIDx0ZXh0IGR5PSIxLjI1ZW0iIHN0eWxlPSJmb250LXNpemU6IDAuOGVtOyBsZXR0ZXItc3BhY2luZzogMXB4Ij4KICAgICAgICAgICAgPHRleHRQYXRoCiAgICAgICAgICAgICAgICB4bGluazpocmVmPSIjYXJyb3ctZTEwOTU4MTU5M2YyNDVjZTljNGFjMTJmNzhlMGM3NGUtMC0wIgogICAgICAgICAgICAgICAgY2xhc3M9ImRpc3BsYWN5LWxhYmVsIgogICAgICAgICAgICAgICAgc3RhcnRPZmZzZXQ9IjUwJSIKICAgICAgICAgICAgICAgIGZpbGw9ImN1cnJlbnRDb2xvciIKICAgICAgICAgICAgICAgIHRleHQtYW5jaG9yPSJtaWRkbGUiCiAgICAgICAgICAgID4KICAgICAgICAgICAgICAgIG5zdWJqCiAgICAgICAgICAgIDwvdGV4dFBhdGg+CiAgICAgICAgPC90ZXh0PgogICAgICAgIDxwYXRoIGNsYXNzPSJkaXNwbGFjeS1hcnJvd2hlYWQiIGQ9Ik03MCwyNjYuNSBMNjIsMjU0LjUgNzgsMjU0LjUiIGZpbGw9ImN1cnJlbnRDb2xvciIgLz4KICAgIDwvZz4KCiAgICA8ZyBjbGFzcz0iZGlzcGxhY3ktYXJyb3ciPgogICAgICAgIDxwYXRoCiAgICAgICAgICAgIGNsYXNzPSJkaXNwbGFjeS1hcmMiCiAgICAgICAgICAgIGlkPSJhcnJvdy1lMTA5NTgxNTkzZjI0NWNlOWM0YWMxMmY3OGUwYzc0ZS0wLTEiCiAgICAgICAgICAgIHN0cm9rZS13aWR0aD0iMnB4IgogICAgICAgICAgICBkPSJNMjQ1LDI2NC41IEMyNDUsMTc3LjAgMzkwLjAsMTc3LjAgMzkwLjAsMjY0LjUiCiAgICAgICAgICAgIGZpbGw9Im5vbmUiCiAgICAgICAgICAgIHN0cm9rZT0iY3VycmVudENvbG9yIgogICAgICAgIC8+CiAgICAgICAgPHRleHQgZHk9IjEuMjVlbSIgc3R5bGU9ImZvbnQtc2l6ZTogMC44ZW07IGxldHRlci1zcGFjaW5nOiAxcHgiPgogICAgICAgICAgICA8dGV4dFBhdGgKICAgICAgICAgICAgICAgIHhsaW5rOmhyZWY9IiNhcnJvdy1lMTA5NTgxNTkzZjI0NWNlOWM0YWMxMmY3OGUwYzc0ZS0wLTEiCiAgICAgICAgICAgICAgICBjbGFzcz0iZGlzcGxhY3ktbGFiZWwiCiAgICAgICAgICAgICAgICBzdGFydE9mZnNldD0iNTAlIgogICAgICAgICAgICAgICAgZmlsbD0iY3VycmVudENvbG9yIgogICAgICAgICAgICAgICAgdGV4dC1hbmNob3I9Im1pZGRsZSIKICAgICAgICAgICAgPgogICAgICAgICAgICAgICAgYXV4CiAgICAgICAgICAgIDwvdGV4dFBhdGg+CiAgICAgICAgPC90ZXh0PgogICAgICAgIDxwYXRoIGNsYXNzPSJkaXNwbGFjeS1hcnJvd2hlYWQiIGQ9Ik0yNDUsMjY2LjUgTDIzNywyNTQuNSAyNTMsMjU0LjUiIGZpbGw9ImN1cnJlbnRDb2xvciIgLz4KICAgIDwvZz4KCiAgICA8ZyBjbGFzcz0iZGlzcGxhY3ktYXJyb3ciPgogICAgICAgIDxwYXRoCiAgICAgICAgICAgIGNsYXNzPSJkaXNwbGFjeS1hcmMiCiAgICAgICAgICAgIGlkPSJhcnJvdy1lMTA5NTgxNTkzZjI0NWNlOWM0YWMxMmY3OGUwYzc0ZS0wLTIiCiAgICAgICAgICAgIHN0cm9rZS13aWR0aD0iMnB4IgogICAgICAgICAgICBkPSJNNDIwLDI2NC41IEM0MjAsMTc3LjAgNTY1LjAsMTc3LjAgNTY1LjAsMjY0LjUiCiAgICAgICAgICAgIGZpbGw9Im5vbmUiCiAgICAgICAgICAgIHN0cm9rZT0iY3VycmVudENvbG9yIgogICAgICAgIC8+CiAgICAgICAgPHRleHQgZHk9IjEuMjVlbSIgc3R5bGU9ImZvbnQtc2l6ZTogMC44ZW07IGxldHRlci1zcGFjaW5nOiAxcHgiPgogICAgICAgICAgICA8dGV4dFBhdGgKICAgICAgICAgICAgICAgIHhsaW5rOmhyZWY9IiNhcnJvdy1lMTA5NTgxNTkzZjI0NWNlOWM0YWMxMmY3OGUwYzc0ZS0wLTIiCiAgICAgICAgICAgICAgICBjbGFzcz0iZGlzcGxhY3ktbGFiZWwiCiAgICAgICAgICAgICAgICBzdGFydE9mZnNldD0iNTAlIgogICAgICAgICAgICAgICAgZmlsbD0iY3VycmVudENvbG9yIgogICAgICAgICAgICAgICAgdGV4dC1hbmNob3I9Im1pZGRsZSIKICAgICAgICAgICAgPgogICAgICAgICAgICAgICAgcHJlcAogICAgICAgICAgICA8L3RleHRQYXRoPgogICAgICAgIDwvdGV4dD4KICAgICAgICA8cGF0aAogICAgICAgICAgICBjbGFzcz0iZGlzcGxhY3ktYXJyb3doZWFkIgogICAgICAgICAgICBkPSJNNTY1LjAsMjY2LjUgTDU3My4wLDI1NC41IDU1Ny4wLDI1NC41IgogICAgICAgICAgICBmaWxsPSJjdXJyZW50Q29sb3IiCiAgICAgICAgLz4KICAgIDwvZz4KCiAgICA8ZyBjbGFzcz0iZGlzcGxhY3ktYXJyb3ciPgogICAgICAgIDxwYXRoCiAgICAgICAgICAgIGNsYXNzPSJkaXNwbGFjeS1hcmMiCiAgICAgICAgICAgIGlkPSJhcnJvdy1lMTA5NTgxNTkzZjI0NWNlOWM0YWMxMmY3OGUwYzc0ZS0wLTMiCiAgICAgICAgICAgIHN0cm9rZS13aWR0aD0iMnB4IgogICAgICAgICAgICBkPSJNNTk1LDI2NC41IEM1OTUsMTc3LjAgNzQwLjAsMTc3LjAgNzQwLjAsMjY0LjUiCiAgICAgICAgICAgIGZpbGw9Im5vbmUiCiAgICAgICAgICAgIHN0cm9rZT0iY3VycmVudENvbG9yIgogICAgICAgIC8+CiAgICAgICAgPHRleHQgZHk9IjEuMjVlbSIgc3R5bGU9ImZvbnQtc2l6ZTogMC44ZW07IGxldHRlci1zcGFjaW5nOiAxcHgiPgogICAgICAgICAgICA8dGV4dFBhdGgKICAgICAgICAgICAgICAgIHhsaW5rOmhyZWY9IiNhcnJvdy1lMTA5NTgxNTkzZjI0NWNlOWM0YWMxMmY3OGUwYzc0ZS0wLTMiCiAgICAgICAgICAgICAgICBjbGFzcz0iZGlzcGxhY3ktbGFiZWwiCiAgICAgICAgICAgICAgICBzdGFydE9mZnNldD0iNTAlIgogICAgICAgICAgICAgICAgZmlsbD0iY3VycmVudENvbG9yIgogICAgICAgICAgICAgICAgdGV4dC1hbmNob3I9Im1pZGRsZSIKICAgICAgICAgICAgPgogICAgICAgICAgICAgICAgcGNvbXAKICAgICAgICAgICAgPC90ZXh0UGF0aD4KICAgICAgICA8L3RleHQ+CiAgICAgICAgPHBhdGgKICAgICAgICAgICAgY2xhc3M9ImRpc3BsYWN5LWFycm93aGVhZCIKICAgICAgICAgICAgZD0iTTc0MC4wLDI2Ni41IEw3NDguMCwyNTQuNSA3MzIuMCwyNTQuNSIKICAgICAgICAgICAgZmlsbD0iY3VycmVudENvbG9yIgogICAgICAgIC8+CiAgICA8L2c+CgogICAgPGcgY2xhc3M9ImRpc3BsYWN5LWFycm93Ij4KICAgICAgICA8cGF0aAogICAgICAgICAgICBjbGFzcz0iZGlzcGxhY3ktYXJjIgogICAgICAgICAgICBpZD0iYXJyb3ctZTEwOTU4MTU5M2YyNDVjZTljNGFjMTJmNzhlMGM3NGUtMC00IgogICAgICAgICAgICBzdHJva2Utd2lkdGg9IjJweCIKICAgICAgICAgICAgZD0iTTk0NSwyNjQuNSBDOTQ1LDE3Ny4wIDEwOTAuMCwxNzcuMCAxMDkwLjAsMjY0LjUiCiAgICAgICAgICAgIGZpbGw9Im5vbmUiCiAgICAgICAgICAgIHN0cm9rZT0iY3VycmVudENvbG9yIgogICAgICAgIC8+CiAgICAgICAgPHRleHQgZHk9IjEuMjVlbSIgc3R5bGU9ImZvbnQtc2l6ZTogMC44ZW07IGxldHRlci1zcGFjaW5nOiAxcHgiPgogICAgICAgICAgICA8dGV4dFBhdGgKICAgICAgICAgICAgICAgIHhsaW5rOmhyZWY9IiNhcnJvdy1lMTA5NTgxNTkzZjI0NWNlOWM0YWMxMmY3OGUwYzc0ZS0wLTQiCiAgICAgICAgICAgICAgICBjbGFzcz0iZGlzcGxhY3ktbGFiZWwiCiAgICAgICAgICAgICAgICBzdGFydE9mZnNldD0iNTAlIgogICAgICAgICAgICAgICAgZmlsbD0iY3VycmVudENvbG9yIgogICAgICAgICAgICAgICAgdGV4dC1hbmNob3I9Im1pZGRsZSIKICAgICAgICAgICAgPgogICAgICAgICAgICAgICAgY29tcG91bmQKICAgICAgICAgICAgPC90ZXh0UGF0aD4KICAgICAgICA8L3RleHQ+CiAgICAgICAgPHBhdGggY2xhc3M9ImRpc3BsYWN5LWFycm93aGVhZCIgZD0iTTk0NSwyNjYuNSBMOTM3LDI1NC41IDk1MywyNTQuNSIgZmlsbD0iY3VycmVudENvbG9yIiAvPgogICAgPC9nPgoKICAgIDxnIGNsYXNzPSJkaXNwbGFjeS1hcnJvdyI+CiAgICAgICAgPHBhdGgKICAgICAgICAgICAgY2xhc3M9ImRpc3BsYWN5LWFyYyIKICAgICAgICAgICAgaWQ9ImFycm93LWUxMDk1ODE1OTNmMjQ1Y2U5YzRhYzEyZjc4ZTBjNzRlLTAtNSIKICAgICAgICAgICAgc3Ryb2tlLXdpZHRoPSIycHgiCiAgICAgICAgICAgIGQ9Ik03NzAsMjY0LjUgQzc3MCw4OS41IDEwOTUuMCw4OS41IDEwOTUuMCwyNjQuNSIKICAgICAgICAgICAgZmlsbD0ibm9uZSIKICAgICAgICAgICAgc3Ryb2tlPSJjdXJyZW50Q29sb3IiCiAgICAgICAgLz4KICAgICAgICA8dGV4dCBkeT0iMS4yNWVtIiBzdHlsZT0iZm9udC1zaXplOiAwLjhlbTsgbGV0dGVyLXNwYWNpbmc6IDFweCI+CiAgICAgICAgICAgIDx0ZXh0UGF0aAogICAgICAgICAgICAgICAgeGxpbms6aHJlZj0iI2Fycm93LWUxMDk1ODE1OTNmMjQ1Y2U5YzRhYzEyZjc4ZTBjNzRlLTAtNSIKICAgICAgICAgICAgICAgIGNsYXNzPSJkaXNwbGFjeS1sYWJlbCIKICAgICAgICAgICAgICAgIHN0YXJ0T2Zmc2V0PSI1MCUiCiAgICAgICAgICAgICAgICBmaWxsPSJjdXJyZW50Q29sb3IiCiAgICAgICAgICAgICAgICB0ZXh0LWFuY2hvcj0ibWlkZGxlIgogICAgICAgICAgICA+CiAgICAgICAgICAgICAgICBkb2JqCiAgICAgICAgICAgIDwvdGV4dFBhdGg+CiAgICAgICAgPC90ZXh0PgogICAgICAgIDxwYXRoCiAgICAgICAgICAgIGNsYXNzPSJkaXNwbGFjeS1hcnJvd2hlYWQiCiAgICAgICAgICAgIGQ9Ik0xMDk1LjAsMjY2LjUgTDExMDMuMCwyNTQuNSAxMDg3LjAsMjU0LjUiCiAgICAgICAgICAgIGZpbGw9ImN1cnJlbnRDb2xvciIKICAgICAgICAvPgogICAgPC9nPgoKICAgIDxnIGNsYXNzPSJkaXNwbGFjeS1hcnJvdyI+CiAgICAgICAgPHBhdGgKICAgICAgICAgICAgY2xhc3M9ImRpc3BsYWN5LWFyYyIKICAgICAgICAgICAgaWQ9ImFycm93LWUxMDk1ODE1OTNmMjQ1Y2U5YzRhYzEyZjc4ZTBjNzRlLTAtNiIKICAgICAgICAgICAgc3Ryb2tlLXdpZHRoPSIycHgiCiAgICAgICAgICAgIGQ9Ik03NzAsMjY0LjUgQzc3MCwyLjAgMTI3NS4wLDIuMCAxMjc1LjAsMjY0LjUiCiAgICAgICAgICAgIGZpbGw9Im5vbmUiCiAgICAgICAgICAgIHN0cm9rZT0iY3VycmVudENvbG9yIgogICAgICAgIC8+CiAgICAgICAgPHRleHQgZHk9IjEuMjVlbSIgc3R5bGU9ImZvbnQtc2l6ZTogMC44ZW07IGxldHRlci1zcGFjaW5nOiAxcHgiPgogICAgICAgICAgICA8dGV4dFBhdGgKICAgICAgICAgICAgICAgIHhsaW5rOmhyZWY9IiNhcnJvdy1lMTA5NTgxNTkzZjI0NWNlOWM0YWMxMmY3OGUwYzc0ZS0wLTYiCiAgICAgICAgICAgICAgICBjbGFzcz0iZGlzcGxhY3ktbGFiZWwiCiAgICAgICAgICAgICAgICBzdGFydE9mZnNldD0iNTAlIgogICAgICAgICAgICAgICAgZmlsbD0iY3VycmVudENvbG9yIgogICAgICAgICAgICAgICAgdGV4dC1hbmNob3I9Im1pZGRsZSIKICAgICAgICAgICAgPgogICAgICAgICAgICAgICAgcHJlcAogICAgICAgICAgICA8L3RleHRQYXRoPgogICAgICAgIDwvdGV4dD4KICAgICAgICA8cGF0aAogICAgICAgICAgICBjbGFzcz0iZGlzcGxhY3ktYXJyb3doZWFkIgogICAgICAgICAgICBkPSJNMTI3NS4wLDI2Ni41IEwxMjgzLjAsMjU0LjUgMTI2Ny4wLDI1NC41IgogICAgICAgICAgICBmaWxsPSJjdXJyZW50Q29sb3IiCiAgICAgICAgLz4KICAgIDwvZz4KCiAgICA8ZyBjbGFzcz0iZGlzcGxhY3ktYXJyb3ciPgogICAgICAgIDxwYXRoCiAgICAgICAgICAgIGNsYXNzPSJkaXNwbGFjeS1hcmMiCiAgICAgICAgICAgIGlkPSJhcnJvdy1lMTA5NTgxNTkzZjI0NWNlOWM0YWMxMmY3OGUwYzc0ZS0wLTciCiAgICAgICAgICAgIHN0cm9rZS13aWR0aD0iMnB4IgogICAgICAgICAgICBkPSJNMTQ3MCwyNjQuNSBDMTQ3MCw4OS41IDE3OTUuMCw4OS41IDE3OTUuMCwyNjQuNSIKICAgICAgICAgICAgZmlsbD0ibm9uZSIKICAgICAgICAgICAgc3Ryb2tlPSJjdXJyZW50Q29sb3IiCiAgICAgICAgLz4KICAgICAgICA8dGV4dCBkeT0iMS4yNWVtIiBzdHlsZT0iZm9udC1zaXplOiAwLjhlbTsgbGV0dGVyLXNwYWNpbmc6IDFweCI+CiAgICAgICAgICAgIDx0ZXh0UGF0aAogICAgICAgICAgICAgICAgeGxpbms6aHJlZj0iI2Fycm93LWUxMDk1ODE1OTNmMjQ1Y2U5YzRhYzEyZjc4ZTBjNzRlLTAtNyIKICAgICAgICAgICAgICAgIGNsYXNzPSJkaXNwbGFjeS1sYWJlbCIKICAgICAgICAgICAgICAgIHN0YXJ0T2Zmc2V0PSI1MCUiCiAgICAgICAgICAgICAgICBmaWxsPSJjdXJyZW50Q29sb3IiCiAgICAgICAgICAgICAgICB0ZXh0LWFuY2hvcj0ibWlkZGxlIgogICAgICAgICAgICA+CiAgICAgICAgICAgICAgICBxdWFudG1vZAogICAgICAgICAgICA8L3RleHRQYXRoPgogICAgICAgIDwvdGV4dD4KICAgICAgICA8cGF0aAogICAgICAgICAgICBjbGFzcz0iZGlzcGxhY3ktYXJyb3doZWFkIgogICAgICAgICAgICBkPSJNMTQ3MCwyNjYuNSBMMTQ2MiwyNTQuNSAxNDc4LDI1NC41IgogICAgICAgICAgICBmaWxsPSJjdXJyZW50Q29sb3IiCiAgICAgICAgLz4KICAgIDwvZz4KCiAgICA8ZyBjbGFzcz0iZGlzcGxhY3ktYXJyb3ciPgogICAgICAgIDxwYXRoCiAgICAgICAgICAgIGNsYXNzPSJkaXNwbGFjeS1hcmMiCiAgICAgICAgICAgIGlkPSJhcnJvdy1lMTA5NTgxNTkzZjI0NWNlOWM0YWMxMmY3OGUwYzc0ZS0wLTgiCiAgICAgICAgICAgIHN0cm9rZS13aWR0aD0iMnB4IgogICAgICAgICAgICBkPSJNMTY0NSwyNjQuNSBDMTY0NSwxNzcuMCAxNzkwLjAsMTc3LjAgMTc5MC4wLDI2NC41IgogICAgICAgICAgICBmaWxsPSJub25lIgogICAgICAgICAgICBzdHJva2U9ImN1cnJlbnRDb2xvciIKICAgICAgICAvPgogICAgICAgIDx0ZXh0IGR5PSIxLjI1ZW0iIHN0eWxlPSJmb250LXNpemU6IDAuOGVtOyBsZXR0ZXItc3BhY2luZzogMXB4Ij4KICAgICAgICAgICAgPHRleHRQYXRoCiAgICAgICAgICAgICAgICB4bGluazpocmVmPSIjYXJyb3ctZTEwOTU4MTU5M2YyNDVjZTljNGFjMTJmNzhlMGM3NGUtMC04IgogICAgICAgICAgICAgICAgY2xhc3M9ImRpc3BsYWN5LWxhYmVsIgogICAgICAgICAgICAgICAgc3RhcnRPZmZzZXQ9IjUwJSIKICAgICAgICAgICAgICAgIGZpbGw9ImN1cnJlbnRDb2xvciIKICAgICAgICAgICAgICAgIHRleHQtYW5jaG9yPSJtaWRkbGUiCiAgICAgICAgICAgID4KICAgICAgICAgICAgICAgIGNvbXBvdW5kCiAgICAgICAgICAgIDwvdGV4dFBhdGg+CiAgICAgICAgPC90ZXh0PgogICAgICAgIDxwYXRoCiAgICAgICAgICAgIGNsYXNzPSJkaXNwbGFjeS1hcnJvd2hlYWQiCiAgICAgICAgICAgIGQ9Ik0xNjQ1LDI2Ni41IEwxNjM3LDI1NC41IDE2NTMsMjU0LjUiCiAgICAgICAgICAgIGZpbGw9ImN1cnJlbnRDb2xvciIKICAgICAgICAvPgogICAgPC9nPgoKICAgIDxnIGNsYXNzPSJkaXNwbGFjeS1hcnJvdyI+CiAgICAgICAgPHBhdGgKICAgICAgICAgICAgY2xhc3M9ImRpc3BsYWN5LWFyYyIKICAgICAgICAgICAgaWQ9ImFycm93LWUxMDk1ODE1OTNmMjQ1Y2U5YzRhYzEyZjc4ZTBjNzRlLTAtOSIKICAgICAgICAgICAgc3Ryb2tlLXdpZHRoPSIycHgiCiAgICAgICAgICAgIGQ9Ik0xMjk1LDI2NC41IEMxMjk1LDIuMCAxODAwLjAsMi4wIDE4MDAuMCwyNjQuNSIKICAgICAgICAgICAgZmlsbD0ibm9uZSIKICAgICAgICAgICAgc3Ryb2tlPSJjdXJyZW50Q29sb3IiCiAgICAgICAgLz4KICAgICAgICA8dGV4dCBkeT0iMS4yNWVtIiBzdHlsZT0iZm9udC1zaXplOiAwLjhlbTsgbGV0dGVyLXNwYWNpbmc6IDFweCI+CiAgICAgICAgICAgIDx0ZXh0UGF0aAogICAgICAgICAgICAgICAgeGxpbms6aHJlZj0iI2Fycm93LWUxMDk1ODE1OTNmMjQ1Y2U5YzRhYzEyZjc4ZTBjNzRlLTAtOSIKICAgICAgICAgICAgICAgIGNsYXNzPSJkaXNwbGFjeS1sYWJlbCIKICAgICAgICAgICAgICAgIHN0YXJ0T2Zmc2V0PSI1MCUiCiAgICAgICAgICAgICAgICBmaWxsPSJjdXJyZW50Q29sb3IiCiAgICAgICAgICAgICAgICB0ZXh0LWFuY2hvcj0ibWlkZGxlIgogICAgICAgICAgICA+CiAgICAgICAgICAgICAgICBwb2JqCiAgICAgICAgICAgIDwvdGV4dFBhdGg+CiAgICAgICAgPC90ZXh0PgogICAgICAgIDxwYXRoCiAgICAgICAgICAgIGNsYXNzPSJkaXNwbGFjeS1hcnJvd2hlYWQiCiAgICAgICAgICAgIGQ9Ik0xODAwLjAsMjY2LjUgTDE4MDguMCwyNTQuNSAxNzkyLjAsMjU0LjUiCiAgICAgICAgICAgIGZpbGw9ImN1cnJlbnRDb2xvciIKICAgICAgICAvPgogICAgPC9nPgo8L3N2Zz4K)"
      ],
      "metadata": {
        "id": "of4t_GUwusHH"
      }
    },
    {
      "cell_type": "code",
      "source": [
        "import spacy\n",
        "\n",
        "nlp = spacy.load(\"en_core_web_sm\")\n",
        "doc = nlp(\"Apple is looking at buying U.K. startup for $1 billion\")\n",
        "\n",
        "for ent in doc.ents:\n",
        "    print(ent.text, ent.start_char, ent.end_char, ent.label_)\n"
      ],
      "metadata": {
        "colab": {
          "base_uri": "https://localhost:8080/"
        },
        "id": "-Crw6wcjt9AE",
        "outputId": "9b6c3c81-3e64-4f43-928c-833260bf277c"
      },
      "execution_count": 7,
      "outputs": [
        {
          "output_type": "stream",
          "name": "stdout",
          "text": [
            "Apple 0 5 ORG\n",
            "U.K. 27 31 GPE\n",
            "$1 billion 44 54 MONEY\n"
          ]
        }
      ]
    },
    {
      "cell_type": "code",
      "source": [],
      "metadata": {
        "id": "FWiTYMLDueNP"
      },
      "execution_count": null,
      "outputs": []
    }
  ]
}